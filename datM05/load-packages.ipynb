{
 "cells": [
  {
   "cell_type": "markdown",
   "metadata": {},
   "source": [
    "<img src=\"http://bigdataexperience.org/BX/wp-content/uploads/2016/05/BX-FULL.png\" width=150/>"
   ]
  },
  {
   "cell_type": "code",
   "execution_count": 2,
   "metadata": {},
   "outputs": [
    {
     "name": "stdout",
     "output_type": "stream",
     "text": [
      "3.6.8 |Anaconda custom (64-bit)| (default, Dec 29 2018, 19:04:46) \n",
      "[GCC 4.2.1 Compatible Clang 4.0.1 (tags/RELEASE_401/final)]\n",
      "Matplotlib version 3.0.0\n",
      "Numpy version 1.14.6\n",
      "Pandas version 0.24.2\n",
      "Scipy version 1.1.0\n",
      "Seaborn version 0.9.0\n",
      "Statsmodels version 0.9.0\n"
     ]
    }
   ],
   "source": [
    "import sys\n",
    "print(sys.version)\n",
    "\n",
    "import matplotlib\n",
    "import numpy as np\n",
    "import numpy.linalg as LA\n",
    "import pandas as pd\n",
    "import seaborn\n",
    "import seaborn as sns\n",
    "import scipy\n",
    "from scipy import stats\n",
    "import statsmodels\n",
    "import sklearn\n",
    "import statsmodels.api as sm\n",
    "\n",
    "print(\"Matplotlib version {}\".format(matplotlib.__version__))\n",
    "print(\"Numpy version {}\".format(np.__version__))\n",
    "print(\"Pandas version {}\".format(pd.__version__))\n",
    "print(\"Scipy version {}\".format(scipy.__version__))\n",
    "print(\"Seaborn version {}\".format(seaborn.__version__))\n",
    "print(\"Statsmodels version {}\".format(statsmodels.__version__))\n",
    "print(\"Sklearn version {}\".format(sklearn.__version__))\n",
    "\n",
    "import warnings\n",
    "warnings.filterwarnings('ignore') \n",
    "warnings.simplefilter(action=\"ignore\",category=UserWarning)\n",
    "warnings.simplefilter(action=\"ignore\",category=FutureWarning)"
   ]
  },
  {
   "cell_type": "code",
   "execution_count": null,
   "metadata": {},
   "outputs": [],
   "source": [
    "print('\\n Enabling interactive shell outputs ...')\n",
    "print('   Use command pass; to disable cell text outputs')\n",
    "from IPython.core.interactiveshell import InteractiveShell\n",
    "InteractiveShell.ast_node_interactivity = \"all\"\n",
    "\n",
    "import matplotlib.pyplot as plt\n",
    "\n",
    "#https://tonysyu.github.io/raw_content/matplotlib-style-gallery/gallery.html\n",
    "#https://matplotlib.org/gallery/style_sheets/style_sheets_reference.html\n",
    "#plt.style.use('ggplot')\n",
    "plt.style.use('seaborn-muted')\n",
    "plt.rcParams['figure.figsize'] = (8, 6)\n",
    "\n",
    "#import matplotlib as mpl\n",
    "#mpl.rcParams['font.sans-serif'] = \"Arial\"\n",
    "#mpl.rcParams['font.serif'] = 'CMU Serif'\n",
    "#mpl.rcParams['font.family'] = \"sans-serif\"\n",
    "\n",
    "%matplotlib inline\n",
    "%config InlineBackend.figure_formats = {'png', 'retina'}"
   ]
  }
 ],
 "metadata": {
  "kernelspec": {
   "display_name": "Python 3",
   "language": "python",
   "name": "python3"
  },
  "language_info": {
   "codemirror_mode": {
    "name": "ipython",
    "version": 3
   },
   "file_extension": ".py",
   "mimetype": "text/x-python",
   "name": "python",
   "nbconvert_exporter": "python",
   "pygments_lexer": "ipython3",
   "version": "3.7.3"
  }
 },
 "nbformat": 4,
 "nbformat_minor": 4
}
